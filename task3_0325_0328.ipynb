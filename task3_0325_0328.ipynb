{
 "cells": [
  {
   "cell_type": "code",
   "execution_count": 158,
   "metadata": {},
   "outputs": [],
   "source": [
    "import pandas as pd\n",
    "import numpy as np\n",
    "import matplotlib\n",
    "import matplotlib.pyplot as plt\n",
    "import seaborn as sns\n",
    "from sklearn.tree import DecisionTreeClassifier\n",
    "import warnings\n",
    "warnings.filterwarnings('ignore')\n",
    "from operator import itemgetter"
   ]
  },
  {
   "cell_type": "code",
   "execution_count": 159,
   "metadata": {},
   "outputs": [],
   "source": [
    "\"\"\"\n",
    "箱线图处理异常\n",
    "\"\"\"\n",
    "def box_outlier_detection(data, col):\n",
    "    \"\"\"\n",
    "    分位数，箱线图 ：异常值通常被定义为小于QL－1.5IQR或大于QU＋1.5IQR的值\n",
    "    其中QL下四分位数，QU上四分位数，IQR：四分位间距\n",
    "    :param data:\n",
    "    :return:\n",
    "    \"\"\"\n",
    "\n",
    "    data2 = data.copy()\n",
    "    col_dat = data2[col]\n",
    "    # 计算分位数\n",
    "    # Q1(25%):下四分位数\n",
    "    Q1 = np.percentile(col_dat, 25)\n",
    "    # Q3(75%):上四分位数\n",
    "    Q3 = np.percentile(col_dat, 75)\n",
    "    #(IQR)四分位间距\n",
    "    IQR = Q3 - Q1\n",
    "    # outlier step\n",
    "    outlier_step = 1.5 * IQR  # 1.5箱线图尺度\n",
    "    lower_outlier = Q1 - outlier_step\n",
    "    higher_outlier = Q3 + outlier_step\n",
    "    #将异常点数据修改为对应边缘数据\n",
    "    data2.loc[col_dat < lower_outlier, col] = lower_outlier\n",
    "    data2.loc[col_dat > higher_outlier, col] = higher_outlier\n",
    "\n",
    "    fig, ax = plt.subplots(1, 2, figsize=(10, 7))\n",
    "    sns.boxplot(data=data[col], palette=\"Set1\", ax=ax[0])\n",
    "    sns.boxplot(data=data2[col], palette=\"Set1\", ax=ax[1])\n",
    "    return data2, lower_outlier, higher_outlier\n",
    "\n",
    "def outliers_proc(data, col_name, scale=3):\n",
    "    \"\"\"\n",
    "    用于清洗异常值，默认用 box_plot（scale=3）进行清洗\n",
    "    :param data: 接收 pandas 数据格式\n",
    "    :param col_name: pandas 列名\n",
    "    :param scale: 尺度\n",
    "    :return:\n",
    "    \"\"\"\n",
    "    def box_plot_outliers(data_ser, box_scale):\n",
    "        \"\"\"\n",
    "        利用箱线图去除异常值\n",
    "        :param data_ser: 接收 pandas.Series 数据格式\n",
    "        :param box_scale: 箱线图尺度，\n",
    "        :return:\n",
    "        \"\"\"\n",
    "        iqr = box_scale * (data_ser.quantile(0.75) - data_ser.quantile(0.25))\n",
    "        val_low = data_ser.quantile(0.25) - iqr\n",
    "        val_up = data_ser.quantile(0.75) + iqr\n",
    "        rule_low = (data_ser < val_low)\n",
    "        rule_up = (data_ser > val_up)\n",
    "        return (rule_low, rule_up), (val_low, val_up)\n",
    "\n",
    "    data_n = data.copy()\n",
    "    data_series = data_n[col_name]\n",
    "    rule, value = box_plot_outliers(data_series, box_scale=scale)\n",
    "    index = np.arange(data_series.shape[0])[rule[0] | rule[1]]\n",
    "    print(\"Delete number is: {}\".format(len(index)))\n",
    "    data_n = data_n.drop(index)\n",
    "    data_n.reset_index(drop=True, inplace=True)\n",
    "    print(\"Now column number is: {}\".format(data_n.shape[0]))\n",
    "    index_low = np.arange(data_series.shape[0])[rule[0]]\n",
    "    outliers = data_series.iloc[index_low]\n",
    "    print(\"Description of data less than the lower bound is:\")\n",
    "    print(pd.Series(outliers).describe())\n",
    "    index_up = np.arange(data_series.shape[0])[rule[1]]\n",
    "    outliers = data_series.iloc[index_up]\n",
    "    print(\"Description of data larger than the upper bound is:\")\n",
    "    print(pd.Series(outliers).describe())\n",
    "\n",
    "    fig, ax = plt.subplots(1, 2, figsize=(10, 7))\n",
    "    sns.boxplot(y=data[col_name], data=data, palette=\"Set1\", ax=ax[0])\n",
    "    sns.boxplot(y=data_n[col_name], data=data_n, palette=\"Set1\", ax=ax[1])\n",
    "    return data_n\n",
    "\n",
    "\"\"\"\n",
    "决策树分箱\n",
    "\"\"\"\n",
    "def optimal_binning_boundary(x, y):\n",
    "    '''\n",
    "       利用决策树对单变量进行分箱处理\n",
    "    '''\n",
    "\n",
    "    boundary = []  # 待return的分箱边界值列表\n",
    "\n",
    "    clf = DecisionTreeClassifier(criterion='entropy',  # “信息熵”最小化准则划分\n",
    "                                 max_leaf_nodes=6,  # 最大叶子节点数\n",
    "                                 min_samples_leaf=0.05)  # 叶子节点样本数量最小占比\n",
    "\n",
    "    clf.fit(x.reshape(-1, 1), y)  # 训练决策树\n",
    "\n",
    "    n_nodes = clf.tree_.node_count\n",
    "    children_left = clf.tree_.children_left\n",
    "    children_right = clf.tree_.children_right\n",
    "    threshold = clf.tree_.threshold\n",
    "\n",
    "    for i in range(n_nodes):\n",
    "        if children_left[i] != children_right[i]:  # 获得决策树节点上的划分边界值\n",
    "            boundary.append(threshold[i])\n",
    "\n",
    "    boundary.sort()\n",
    "\n",
    "    min_x = x.min()\n",
    "    max_x = x.max() + 0.1  # +0.1是为了考虑后续groupby操作时，能包含特征最大值的样本\n",
    "    boundary = [min_x] + boundary + [max_x]\n",
    "\n",
    "    return boundary"
   ]
  },
  {
   "cell_type": "markdown",
   "metadata": {},
   "source": [
    "## 1、加载数据"
   ]
  },
  {
   "cell_type": "code",
   "execution_count": 160,
   "metadata": {},
   "outputs": [
    {
     "data": {
      "text/plain": [
       "((150000, 31), (50000, 30))"
      ]
     },
     "execution_count": 160,
     "metadata": {},
     "output_type": "execute_result"
    }
   ],
   "source": [
    "raw_train = pd.read_csv(\"./data/used_car_train_20200313.csv\", sep=\" \")\n",
    "raw_test = pd.read_csv(\"./data/used_car_testA_20200313.csv\", sep=\" \")\n",
    "raw_train.shape, raw_test.shape"
   ]
  },
  {
   "cell_type": "code",
   "execution_count": 161,
   "metadata": {},
   "outputs": [
    {
     "data": {
      "text/plain": [
       "Index(['SaleID', 'name', 'regDate', 'model', 'brand', 'bodyType', 'fuelType',\n",
       "       'gearbox', 'power', 'kilometer', 'notRepairedDamage', 'regionCode',\n",
       "       'seller', 'offerType', 'creatDate', 'price', 'v_0', 'v_1', 'v_2', 'v_3',\n",
       "       'v_4', 'v_5', 'v_6', 'v_7', 'v_8', 'v_9', 'v_10', 'v_11', 'v_12',\n",
       "       'v_13', 'v_14'],\n",
       "      dtype='object')"
      ]
     },
     "execution_count": 161,
     "metadata": {},
     "output_type": "execute_result"
    }
   ],
   "source": [
    "raw_train.columns"
   ]
  },
  {
   "cell_type": "code",
   "execution_count": 162,
   "metadata": {},
   "outputs": [
    {
     "data": {
      "text/plain": [
       "Index(['SaleID', 'name', 'regDate', 'model', 'brand', 'bodyType', 'fuelType',\n",
       "       'gearbox', 'power', 'kilometer', 'notRepairedDamage', 'regionCode',\n",
       "       'seller', 'offerType', 'creatDate', 'v_0', 'v_1', 'v_2', 'v_3', 'v_4',\n",
       "       'v_5', 'v_6', 'v_7', 'v_8', 'v_9', 'v_10', 'v_11', 'v_12', 'v_13',\n",
       "       'v_14'],\n",
       "      dtype='object')"
      ]
     },
     "execution_count": 162,
     "metadata": {},
     "output_type": "execute_result"
    }
   ],
   "source": [
    "raw_test.columns"
   ]
  },
  {
   "cell_type": "code",
   "execution_count": 163,
   "metadata": {},
   "outputs": [],
   "source": [
    "## 2、EDA (task2)"
   ]
  },
  {
   "cell_type": "markdown",
   "metadata": {},
   "source": [
    "##   3、特征工程 \n",
    "### 3.1 异常值处理\n",
    "- 箱线图、局部异常系数、孤立森立\n",
    "- Box-Cox变换\n",
    "- 长尾截断"
   ]
  },
  {
   "cell_type": "code",
   "execution_count": 164,
   "metadata": {},
   "outputs": [],
   "source": [
    "# 1) 箱线图处理\n",
    "# 我们可以删掉一些异常数据，以 power 为例。  \n",
    "# 这里删不删同学可以自行判断\n",
    "# 但是要注意 test 的数据不能删 = = 不能掩耳盗铃是不是!!!\n",
    "# train = outliers_proc(raw_train, 'power', scale=3) # 异常值进行删除"
   ]
  },
  {
   "cell_type": "code",
   "execution_count": 165,
   "metadata": {},
   "outputs": [],
   "source": [
    "# train, lower_outlier, higher_outlier  = box_outlier_detection(raw_train, 'power')  # 异常值替换\n",
    "# # 测试集异常值同样进行替换\n",
    "# test.loc[test.power < lower_outlier] = lower_outlier\n",
    "# test.loc[test.power > higher_outlier] = higher_outlier"
   ]
  },
  {
   "cell_type": "markdown",
   "metadata": {},
   "source": [
    "## 3.2 特征构造\n",
    "- 构造统计量特征，报告计数、求和、比例、标准差等；\n",
    "- 时间特征，包括相对时间和绝对时间，节假日，双休日等；\n",
    "- 地理信息，包括分箱，分布编码等方法；\n",
    "- 非线性变换，包括 log/ 平方/ 根号等；\n",
    "- 特征组合，特征交叉；\n",
    "-  仁者见仁，智者见智。"
   ]
  },
  {
   "cell_type": "code",
   "execution_count": 166,
   "metadata": {},
   "outputs": [
    {
     "data": {
      "text/html": [
       "<div>\n",
       "<style scoped>\n",
       "    .dataframe tbody tr th:only-of-type {\n",
       "        vertical-align: middle;\n",
       "    }\n",
       "\n",
       "    .dataframe tbody tr th {\n",
       "        vertical-align: top;\n",
       "    }\n",
       "\n",
       "    .dataframe thead th {\n",
       "        text-align: right;\n",
       "    }\n",
       "</style>\n",
       "<table border=\"1\" class=\"dataframe\">\n",
       "  <thead>\n",
       "    <tr style=\"text-align: right;\">\n",
       "      <th></th>\n",
       "      <th>SaleID</th>\n",
       "      <th>name</th>\n",
       "      <th>regDate</th>\n",
       "      <th>model</th>\n",
       "      <th>brand</th>\n",
       "      <th>bodyType</th>\n",
       "      <th>fuelType</th>\n",
       "      <th>gearbox</th>\n",
       "      <th>power</th>\n",
       "      <th>kilometer</th>\n",
       "      <th>...</th>\n",
       "      <th>v_6</th>\n",
       "      <th>v_7</th>\n",
       "      <th>v_8</th>\n",
       "      <th>v_9</th>\n",
       "      <th>v_10</th>\n",
       "      <th>v_11</th>\n",
       "      <th>v_12</th>\n",
       "      <th>v_13</th>\n",
       "      <th>v_14</th>\n",
       "      <th>train</th>\n",
       "    </tr>\n",
       "  </thead>\n",
       "  <tbody>\n",
       "    <tr>\n",
       "      <th>count</th>\n",
       "      <td>200000.000000</td>\n",
       "      <td>200000.000000</td>\n",
       "      <td>2.000000e+05</td>\n",
       "      <td>199999.000000</td>\n",
       "      <td>200000.000000</td>\n",
       "      <td>194081.000000</td>\n",
       "      <td>188427.000000</td>\n",
       "      <td>192109.000000</td>\n",
       "      <td>200000.000000</td>\n",
       "      <td>200000.000000</td>\n",
       "      <td>...</td>\n",
       "      <td>200000.000000</td>\n",
       "      <td>200000.000000</td>\n",
       "      <td>200000.000000</td>\n",
       "      <td>200000.000000</td>\n",
       "      <td>200000.000000</td>\n",
       "      <td>200000.000000</td>\n",
       "      <td>200000.000000</td>\n",
       "      <td>200000.000000</td>\n",
       "      <td>200000.000000</td>\n",
       "      <td>200000.000000</td>\n",
       "    </tr>\n",
       "    <tr>\n",
       "      <th>mean</th>\n",
       "      <td>99999.500000</td>\n",
       "      <td>68397.435475</td>\n",
       "      <td>2.003411e+07</td>\n",
       "      <td>47.057895</td>\n",
       "      <td>8.053610</td>\n",
       "      <td>1.789820</td>\n",
       "      <td>0.375233</td>\n",
       "      <td>0.224794</td>\n",
       "      <td>119.458315</td>\n",
       "      <td>12.596765</td>\n",
       "      <td>...</td>\n",
       "      <td>0.044947</td>\n",
       "      <td>0.124205</td>\n",
       "      <td>0.058107</td>\n",
       "      <td>0.061997</td>\n",
       "      <td>-0.005214</td>\n",
       "      <td>0.003340</td>\n",
       "      <td>0.000221</td>\n",
       "      <td>-0.000552</td>\n",
       "      <td>-0.000137</td>\n",
       "      <td>0.750000</td>\n",
       "    </tr>\n",
       "    <tr>\n",
       "      <th>std</th>\n",
       "      <td>57735.171256</td>\n",
       "      <td>61091.016948</td>\n",
       "      <td>5.365956e+04</td>\n",
       "      <td>49.519455</td>\n",
       "      <td>7.853592</td>\n",
       "      <td>1.760665</td>\n",
       "      <td>0.548118</td>\n",
       "      <td>0.417448</td>\n",
       "      <td>179.183258</td>\n",
       "      <td>3.916919</td>\n",
       "      <td>...</td>\n",
       "      <td>0.051748</td>\n",
       "      <td>0.200065</td>\n",
       "      <td>0.029192</td>\n",
       "      <td>0.035682</td>\n",
       "      <td>3.766298</td>\n",
       "      <td>3.272461</td>\n",
       "      <td>2.517105</td>\n",
       "      <td>1.288388</td>\n",
       "      <td>1.035863</td>\n",
       "      <td>0.433014</td>\n",
       "    </tr>\n",
       "    <tr>\n",
       "      <th>min</th>\n",
       "      <td>0.000000</td>\n",
       "      <td>0.000000</td>\n",
       "      <td>1.991000e+07</td>\n",
       "      <td>0.000000</td>\n",
       "      <td>0.000000</td>\n",
       "      <td>0.000000</td>\n",
       "      <td>0.000000</td>\n",
       "      <td>0.000000</td>\n",
       "      <td>0.000000</td>\n",
       "      <td>0.500000</td>\n",
       "      <td>...</td>\n",
       "      <td>0.000000</td>\n",
       "      <td>0.000000</td>\n",
       "      <td>0.000000</td>\n",
       "      <td>0.000000</td>\n",
       "      <td>-9.168192</td>\n",
       "      <td>-5.558207</td>\n",
       "      <td>-9.639552</td>\n",
       "      <td>-4.153899</td>\n",
       "      <td>-6.546556</td>\n",
       "      <td>0.000000</td>\n",
       "    </tr>\n",
       "    <tr>\n",
       "      <th>25%</th>\n",
       "      <td>49999.750000</td>\n",
       "      <td>11170.000000</td>\n",
       "      <td>1.999091e+07</td>\n",
       "      <td>10.000000</td>\n",
       "      <td>1.000000</td>\n",
       "      <td>0.000000</td>\n",
       "      <td>0.000000</td>\n",
       "      <td>0.000000</td>\n",
       "      <td>75.000000</td>\n",
       "      <td>12.500000</td>\n",
       "      <td>...</td>\n",
       "      <td>0.000040</td>\n",
       "      <td>0.062518</td>\n",
       "      <td>0.035266</td>\n",
       "      <td>0.033879</td>\n",
       "      <td>-3.716989</td>\n",
       "      <td>-1.956648</td>\n",
       "      <td>-1.873019</td>\n",
       "      <td>-1.058617</td>\n",
       "      <td>-0.437238</td>\n",
       "      <td>0.750000</td>\n",
       "    </tr>\n",
       "    <tr>\n",
       "      <th>50%</th>\n",
       "      <td>99999.500000</td>\n",
       "      <td>51785.500000</td>\n",
       "      <td>2.003091e+07</td>\n",
       "      <td>30.000000</td>\n",
       "      <td>6.000000</td>\n",
       "      <td>1.000000</td>\n",
       "      <td>0.000000</td>\n",
       "      <td>0.000000</td>\n",
       "      <td>110.000000</td>\n",
       "      <td>15.000000</td>\n",
       "      <td>...</td>\n",
       "      <td>0.000813</td>\n",
       "      <td>0.095857</td>\n",
       "      <td>0.057024</td>\n",
       "      <td>0.058574</td>\n",
       "      <td>1.621345</td>\n",
       "      <td>-0.357720</td>\n",
       "      <td>-0.134311</td>\n",
       "      <td>-0.036196</td>\n",
       "      <td>0.140615</td>\n",
       "      <td>1.000000</td>\n",
       "    </tr>\n",
       "    <tr>\n",
       "      <th>75%</th>\n",
       "      <td>149999.250000</td>\n",
       "      <td>118846.250000</td>\n",
       "      <td>2.007111e+07</td>\n",
       "      <td>66.000000</td>\n",
       "      <td>13.000000</td>\n",
       "      <td>3.000000</td>\n",
       "      <td>1.000000</td>\n",
       "      <td>0.000000</td>\n",
       "      <td>150.000000</td>\n",
       "      <td>15.000000</td>\n",
       "      <td>...</td>\n",
       "      <td>0.102014</td>\n",
       "      <td>0.125288</td>\n",
       "      <td>0.079292</td>\n",
       "      <td>0.087490</td>\n",
       "      <td>2.841749</td>\n",
       "      <td>1.257437</td>\n",
       "      <td>1.773703</td>\n",
       "      <td>0.942401</td>\n",
       "      <td>0.680567</td>\n",
       "      <td>1.000000</td>\n",
       "    </tr>\n",
       "    <tr>\n",
       "      <th>max</th>\n",
       "      <td>199999.000000</td>\n",
       "      <td>196812.000000</td>\n",
       "      <td>2.015121e+07</td>\n",
       "      <td>247.000000</td>\n",
       "      <td>39.000000</td>\n",
       "      <td>7.000000</td>\n",
       "      <td>6.000000</td>\n",
       "      <td>1.000000</td>\n",
       "      <td>20000.000000</td>\n",
       "      <td>15.000000</td>\n",
       "      <td>...</td>\n",
       "      <td>0.153265</td>\n",
       "      <td>1.404936</td>\n",
       "      <td>0.160791</td>\n",
       "      <td>0.222787</td>\n",
       "      <td>12.357011</td>\n",
       "      <td>18.856218</td>\n",
       "      <td>13.847792</td>\n",
       "      <td>11.147669</td>\n",
       "      <td>8.658418</td>\n",
       "      <td>1.000000</td>\n",
       "    </tr>\n",
       "  </tbody>\n",
       "</table>\n",
       "<p>8 rows × 31 columns</p>\n",
       "</div>"
      ],
      "text/plain": [
       "              SaleID           name       regDate          model  \\\n",
       "count  200000.000000  200000.000000  2.000000e+05  199999.000000   \n",
       "mean    99999.500000   68397.435475  2.003411e+07      47.057895   \n",
       "std     57735.171256   61091.016948  5.365956e+04      49.519455   \n",
       "min         0.000000       0.000000  1.991000e+07       0.000000   \n",
       "25%     49999.750000   11170.000000  1.999091e+07      10.000000   \n",
       "50%     99999.500000   51785.500000  2.003091e+07      30.000000   \n",
       "75%    149999.250000  118846.250000  2.007111e+07      66.000000   \n",
       "max    199999.000000  196812.000000  2.015121e+07     247.000000   \n",
       "\n",
       "               brand       bodyType       fuelType        gearbox  \\\n",
       "count  200000.000000  194081.000000  188427.000000  192109.000000   \n",
       "mean        8.053610       1.789820       0.375233       0.224794   \n",
       "std         7.853592       1.760665       0.548118       0.417448   \n",
       "min         0.000000       0.000000       0.000000       0.000000   \n",
       "25%         1.000000       0.000000       0.000000       0.000000   \n",
       "50%         6.000000       1.000000       0.000000       0.000000   \n",
       "75%        13.000000       3.000000       1.000000       0.000000   \n",
       "max        39.000000       7.000000       6.000000       1.000000   \n",
       "\n",
       "               power      kilometer  ...            v_6            v_7  \\\n",
       "count  200000.000000  200000.000000  ...  200000.000000  200000.000000   \n",
       "mean      119.458315      12.596765  ...       0.044947       0.124205   \n",
       "std       179.183258       3.916919  ...       0.051748       0.200065   \n",
       "min         0.000000       0.500000  ...       0.000000       0.000000   \n",
       "25%        75.000000      12.500000  ...       0.000040       0.062518   \n",
       "50%       110.000000      15.000000  ...       0.000813       0.095857   \n",
       "75%       150.000000      15.000000  ...       0.102014       0.125288   \n",
       "max     20000.000000      15.000000  ...       0.153265       1.404936   \n",
       "\n",
       "                 v_8            v_9           v_10           v_11  \\\n",
       "count  200000.000000  200000.000000  200000.000000  200000.000000   \n",
       "mean        0.058107       0.061997      -0.005214       0.003340   \n",
       "std         0.029192       0.035682       3.766298       3.272461   \n",
       "min         0.000000       0.000000      -9.168192      -5.558207   \n",
       "25%         0.035266       0.033879      -3.716989      -1.956648   \n",
       "50%         0.057024       0.058574       1.621345      -0.357720   \n",
       "75%         0.079292       0.087490       2.841749       1.257437   \n",
       "max         0.160791       0.222787      12.357011      18.856218   \n",
       "\n",
       "                v_12           v_13           v_14          train  \n",
       "count  200000.000000  200000.000000  200000.000000  200000.000000  \n",
       "mean        0.000221      -0.000552      -0.000137       0.750000  \n",
       "std         2.517105       1.288388       1.035863       0.433014  \n",
       "min        -9.639552      -4.153899      -6.546556       0.000000  \n",
       "25%        -1.873019      -1.058617      -0.437238       0.750000  \n",
       "50%        -0.134311      -0.036196       0.140615       1.000000  \n",
       "75%         1.773703       0.942401       0.680567       1.000000  \n",
       "max        13.847792      11.147669       8.658418       1.000000  \n",
       "\n",
       "[8 rows x 31 columns]"
      ]
     },
     "execution_count": 166,
     "metadata": {},
     "output_type": "execute_result"
    }
   ],
   "source": [
    "# 训练集和测试集放到一起，方便构造特征\n",
    "train = raw_train.copy()\n",
    "test = raw_test.copy()\n",
    "train['train'] = 1\n",
    "test['train'] = 0\n",
    "data = pd.concat([train, test], ignore_index=True, sort=False)\n",
    "data.describe()"
   ]
  },
  {
   "cell_type": "markdown",
   "metadata": {},
   "source": [
    "### 3.2.1 时间变量处理 - 时间特征，包括相对时间和绝对时间，节假日，双休日等"
   ]
  },
  {
   "cell_type": "code",
   "execution_count": 167,
   "metadata": {},
   "outputs": [
    {
     "name": "stdout",
     "output_type": "stream",
     "text": [
      "汽车使用时间异常值数量:15101个, 异常值比例：7.55%\n",
      "train-汽车使用时间异常值数量:11347个, 异常值比例：7.56%\n",
      "test-汽车使用时间异常值数量:3754个, 异常值比例：7.51%\n"
     ]
    }
   ],
   "source": [
    "# 1) 计算使用时间\n",
    "# data['creatDate'] - data['regDate']，反应汽车使用时间，一般来说价格与使用时间成反比\n",
    "# 不过要注意，数据里有时间出错的格式，所以我们需要 errors='coerce'\n",
    "data['used_time'] = (pd.to_datetime(data[\"creatDate\"], format='%Y%m%d', errors='coerce')\n",
    "                     - pd.to_datetime(data['regDate'], format='%Y%m%d', errors='coerce')).dt.days\n",
    "\n",
    "# 汽车使用时间异常值数量、比例为\n",
    "error_cnt = data['used_time'].isnull().sum()\n",
    "print(\"汽车使用时间异常值数量:%d个, 异常值比例：%.2f%%\" % (error_cnt, error_cnt/len(data)*100))\n",
    "train_error_cnt = data[data.train == 1]['used_time'].isnull().sum()\n",
    "test_error_cnt = data[data.train == 0]['used_time'].isnull().sum()\n",
    "print(\"train-汽车使用时间异常值数量:%d个, 异常值比例：%.2f%%\" % (train_error_cnt, train_error_cnt/len(train)*100))\n",
    "print(\"test-汽车使用时间异常值数量:%d个, 异常值比例：%.2f%%\" % (test_error_cnt, test_error_cnt/len(test)*100))"
   ]
  },
  {
   "cell_type": "code",
   "execution_count": 168,
   "metadata": {},
   "outputs": [],
   "source": [
    "# 2) 提取年份、月份、是否为双休日、节假日等 (待做)"
   ]
  },
  {
   "cell_type": "markdown",
   "metadata": {},
   "source": [
    "### 3.2.2 提取城市信息"
   ]
  },
  {
   "cell_type": "code",
   "execution_count": 169,
   "metadata": {},
   "outputs": [],
   "source": [
    "# 从邮编中提取城市信息，因为是德国的数据，所以参考德国的邮编，相当于加入了先验知识\n",
    "data['city'] = data['regionCode'].apply(lambda x: str(x)[:-3])"
   ]
  },
  {
   "cell_type": "markdown",
   "metadata": {},
   "source": [
    "- [:-3]倒数第三个之前的数，eg: '12345'[:-3]为12\n",
    "- [::-1]从后往前一个个取数，也就是倒序， 而[::-2]从后往前每隔一个取一个数\n",
    "eg. '12345'[::-1] 为54321， '12345'[::-2]为531， '12345'[::-3]为52"
   ]
  },
  {
   "cell_type": "markdown",
   "metadata": {},
   "source": [
    "### 3.2.3 构造统计量特征:报告计数、求和、比例、标准差等"
   ]
  },
  {
   "cell_type": "code",
   "execution_count": 170,
   "metadata": {},
   "outputs": [],
   "source": [
    "# 计算某品牌的销售统计量\n",
    "# 这里要以 train 的数据计算统计量\n",
    "train_gb = train.groupby(\"brand\")\n",
    "all_info = {}\n",
    "for kind, kind_data in train_gb:\n",
    "    info = {}\n",
    "    kind_data = kind_data[kind_data['price'] > 0]\n",
    "    info['brand_amount'] = len(kind_data)  # 品牌销量\n",
    "    info['brand_price_max'] = kind_data.price.max()  # 品牌价格最大、最小、众数、销售总价（这里可以考虑季度、月份、等销售情况等--之后加入（待做）\n",
    "    info['brand_price_median'] = kind_data.price.median()\n",
    "    info['brand_price_min'] = kind_data.price.min()\n",
    "    info['brand_price_sum'] = kind_data.price.sum()\n",
    "    info['brand_price_std'] = kind_data.price.std() # 价格标准差\n",
    "    info['brand_price_average'] = round(kind_data.price.sum() / (len(kind_data) + 1), 2)  # 平均价格\n",
    "    all_info[kind] = info\n",
    "brand_fe = pd.DataFrame(all_info).T.reset_index().rename(columns={\"index\": \"brand\"})\n",
    "data = data.merge(brand_fe, how='left', on='brand') # 测试集未被覆盖到的品牌数据为空"
   ]
  },
  {
   "cell_type": "markdown",
   "metadata": {},
   "source": [
    "这里可能会出现训练集品牌不能完全覆盖测试集品牌的情况，\n",
    "对于这种情况，相应的统计信息为空，因为实际情况也不能全部覆盖，对于训练不到的赋值为空，或者填充特殊值"
   ]
  },
  {
   "cell_type": "code",
   "execution_count": 171,
   "metadata": {},
   "outputs": [
    {
     "data": {
      "text/plain": [
       "Index(['SaleID', 'name', 'regDate', 'model', 'brand', 'bodyType', 'fuelType',\n",
       "       'gearbox', 'power', 'kilometer', 'notRepairedDamage', 'regionCode',\n",
       "       'seller', 'offerType', 'creatDate', 'price', 'v_0', 'v_1', 'v_2', 'v_3',\n",
       "       'v_4', 'v_5', 'v_6', 'v_7', 'v_8', 'v_9', 'v_10', 'v_11', 'v_12',\n",
       "       'v_13', 'v_14', 'train', 'used_time', 'city', 'brand_amount',\n",
       "       'brand_price_max', 'brand_price_median', 'brand_price_min',\n",
       "       'brand_price_sum', 'brand_price_std', 'brand_price_average'],\n",
       "      dtype='object')"
      ]
     },
     "execution_count": 171,
     "metadata": {},
     "output_type": "execute_result"
    }
   ],
   "source": [
    "data.columns"
   ]
  },
  {
   "cell_type": "markdown",
   "metadata": {},
   "source": [
    "### 3.3 数据分箱\n",
    "无监督分箱\n",
    "- 等频分箱\n",
    "- 等距分箱\n",
    "- 聚类分箱\n",
    "\n",
    "有监督分箱\n",
    "- Best - KS 分箱（类似利用基尼指数进行二分类）\n",
    "- 决策树分箱\n",
    "- 卡方分箱\n",
    "- 差熵分箱\n",
    "\n",
    "数据分筒的好处：\n",
    "1. 离散后稀疏向量内积乘法运算速度更快，计算结果也方便存储，容易扩展；\n",
    "2. 离散后的特征对异常值更具鲁棒性，如 age>30 为 1 否则为 0，对于年龄为 200 的也不会对模型造成很大的干扰；\n",
    "3. LR 属于广义线性模型，表达能力有限，经过离散化后，每个变量有单独的权重，这相当于引入了非线性，能够提升模型的表达能力，加大拟合；\n",
    "4. 离散后特征可以进行特征交叉，提升表达能力，由 M+N 个变量编程 M*N 个变量，进一步引入非线形，提升了表达能力；\n",
    "5. 特征离散后模型更稳定，如用户年龄区间，不会因为用户年龄长了一岁就变化\n",
    "当然还有很多原因，LightGBM 在改进 XGBoost 时就增加了数据分桶，增强了模型的泛化性\n"
   ]
  },
  {
   "cell_type": "code",
   "execution_count": 172,
   "metadata": {},
   "outputs": [],
   "source": [
    "train = data[data.train==1]\n",
    "test = data[data.train==0]"
   ]
  },
  {
   "cell_type": "code",
   "execution_count": 173,
   "metadata": {},
   "outputs": [
    {
     "data": {
      "text/plain": [
       "power_bin\n",
       "(-0.001, 50.0]      16543\n",
       "(50.0, 65.0]        13665\n",
       "(65.0, 80.0]        16477\n",
       "(80.0, 101.0]       17635\n",
       "(101.0, 110.0]      12543\n",
       "(110.0, 125.0]      15295\n",
       "(125.0, 140.0]      13429\n",
       "(140.0, 163.0]      15522\n",
       "(163.0, 197.0]      14305\n",
       "(197.0, 19312.0]    14586\n",
       "dtype: int64"
      ]
     },
     "execution_count": 173,
     "metadata": {},
     "output_type": "execute_result"
    }
   ],
   "source": [
    "# 1) 等频分箱\n",
    "# 以power为例\n",
    "# 训练集分箱\n",
    "train[\"power_bin\"], bins = pd.qcut(train[\"power\"], 10, retbins=True)\n",
    "train.groupby([\"power_bin\"], as_index=True).size()"
   ]
  },
  {
   "cell_type": "code",
   "execution_count": 174,
   "metadata": {},
   "outputs": [
    {
     "data": {
      "text/plain": [
       "power_bin\n",
       "(0.0, 50.0]         1253\n",
       "(50.0, 65.0]        4649\n",
       "(65.0, 80.0]        5443\n",
       "(80.0, 101.0]       5933\n",
       "(101.0, 110.0]      4304\n",
       "(110.0, 125.0]      4942\n",
       "(125.0, 140.0]      4368\n",
       "(140.0, 163.0]      5305\n",
       "(163.0, 197.0]      4752\n",
       "(197.0, 19312.0]    4855\n",
       "dtype: int64"
      ]
     },
     "execution_count": 174,
     "metadata": {},
     "output_type": "execute_result"
    }
   ],
   "source": [
    "# 测试集按同样\n",
    "test[\"power_bin\"] = pd.cut(test[\"power\"],bins=bins, right=True )\n",
    "test.groupby([\"power_bin\"], as_index=True).size()"
   ]
  },
  {
   "cell_type": "code",
   "execution_count": 175,
   "metadata": {},
   "outputs": [
    {
     "data": {
      "text/plain": [
       "power_bin\n",
       "(-19.312, 1931.2]     149956\n",
       "(1931.2, 3862.4]          17\n",
       "(3862.4, 5793.6]           2\n",
       "(5793.6, 7724.8]           9\n",
       "(7724.8, 9656.0]           2\n",
       "(9656.0, 11587.2]          3\n",
       "(11587.2, 13518.4]         2\n",
       "(13518.4, 15449.6]         2\n",
       "(15449.6, 17380.8]         3\n",
       "(17380.8, 19312.0]         4\n",
       "dtype: int64"
      ]
     },
     "execution_count": 175,
     "metadata": {},
     "output_type": "execute_result"
    }
   ],
   "source": [
    "# 2)等距分箱\n",
    "train[\"power_bin\"], bins = pd.cut(train[\"power\"], 10, retbins=True)\n",
    "train.groupby([\"power_bin\"], as_index=True).size()"
   ]
  },
  {
   "cell_type": "code",
   "execution_count": 176,
   "metadata": {},
   "outputs": [
    {
     "data": {
      "text/plain": [
       "power_bin\n",
       "(-19.312, 1931.2]     49984\n",
       "(1931.2, 3862.4]          6\n",
       "(3862.4, 5793.6]          1\n",
       "(5793.6, 7724.8]          3\n",
       "(7724.8, 9656.0]          0\n",
       "(9656.0, 11587.2]         1\n",
       "(11587.2, 13518.4]        2\n",
       "(13518.4, 15449.6]        2\n",
       "(15449.6, 17380.8]        0\n",
       "(17380.8, 19312.0]        0\n",
       "dtype: int64"
      ]
     },
     "execution_count": 176,
     "metadata": {},
     "output_type": "execute_result"
    }
   ],
   "source": [
    "test[\"power_bin\"] = pd.cut(test[\"power\"],bins=bins, right=True )\n",
    "test.groupby([\"power_bin\"], as_index=True).size()"
   ]
  },
  {
   "cell_type": "code",
   "execution_count": 177,
   "metadata": {},
   "outputs": [],
   "source": [
    "# 3)决策树分箱\n",
    "bins = optimal_binning_boundary(x=np.array(train[\"power\"]), y=train[\"price\"])\n",
    "train[\"power_bin\"] = pd.cut(train[\"power\"], bins=bins, right=False, labels=False)\n",
    "test[\"power_bin\"] = pd.cut(train[\"power\"], bins=bins, right=False, labels=False)"
   ]
  },
  {
   "cell_type": "code",
   "execution_count": 178,
   "metadata": {},
   "outputs": [
    {
     "data": {
      "text/html": [
       "<div>\n",
       "<style scoped>\n",
       "    .dataframe tbody tr th:only-of-type {\n",
       "        vertical-align: middle;\n",
       "    }\n",
       "\n",
       "    .dataframe tbody tr th {\n",
       "        vertical-align: top;\n",
       "    }\n",
       "\n",
       "    .dataframe thead th {\n",
       "        text-align: right;\n",
       "    }\n",
       "</style>\n",
       "<table border=\"1\" class=\"dataframe\">\n",
       "  <thead>\n",
       "    <tr style=\"text-align: right;\">\n",
       "      <th></th>\n",
       "      <th>power</th>\n",
       "      <th>power_bin</th>\n",
       "    </tr>\n",
       "  </thead>\n",
       "  <tbody>\n",
       "    <tr>\n",
       "      <th>0</th>\n",
       "      <td>60</td>\n",
       "      <td>0</td>\n",
       "    </tr>\n",
       "    <tr>\n",
       "      <th>1</th>\n",
       "      <td>0</td>\n",
       "      <td>0</td>\n",
       "    </tr>\n",
       "    <tr>\n",
       "      <th>2</th>\n",
       "      <td>163</td>\n",
       "      <td>4</td>\n",
       "    </tr>\n",
       "    <tr>\n",
       "      <th>3</th>\n",
       "      <td>193</td>\n",
       "      <td>4</td>\n",
       "    </tr>\n",
       "    <tr>\n",
       "      <th>4</th>\n",
       "      <td>68</td>\n",
       "      <td>1</td>\n",
       "    </tr>\n",
       "  </tbody>\n",
       "</table>\n",
       "</div>"
      ],
      "text/plain": [
       "   power  power_bin\n",
       "0     60          0\n",
       "1      0          0\n",
       "2    163          4\n",
       "3    193          4\n",
       "4     68          1"
      ]
     },
     "execution_count": 178,
     "metadata": {},
     "output_type": "execute_result"
    }
   ],
   "source": [
    "train[['power',\"power_bin\"]].head()"
   ]
  },
  {
   "cell_type": "markdown",
   "metadata": {},
   "source": [
    "#### pd.cut()参数含义\n",
    "\n",
    "pandas.cut(x, bins, right=True, labels=None, retbins=False, precision=3, include_lowest=False, duplicates='raise') \n",
    "- x：被切分的类数组（array-like）数据，必须是1维的（不能用DataFrame）；\n",
    "\n",
    "\n",
    "- bins：bins是被切割后的区间（或者叫“桶”、“箱”、“面元”），有3中形式：一个int型的标量、标量序列（数组）或者pandas.IntervalIndex 。\n",
    "    一个int型的标量\n",
    "    当bins为一个int型的标量时，代表将x平分成bins份。x的范围在每侧扩展0.1%，以包括x的最大值和最小值。\n",
    "    标量序列\n",
    "     标量序列定义了被分割后每一个bin的区间边缘，此时x没有扩展。\n",
    "    pandas.IntervalIndex\n",
    "    定义要使用的精确区间。\n",
    "    \n",
    "    \n",
    "- right：bool型参数，默认为True，表示是否包含区间右部。比如如果bins=[1,2,3]，right=True，则区间为(1,2]，(2,3]；right=False，则区间为(1,2),(2,3)。\n",
    "\n",
    "\n",
    "- labels：给分割后的bins打标签，比如把年龄x分割成年龄段bins后，可以给年龄段打上诸如青年、中年的标签。labels   的长度必须和划分后的区间长度相等，比如bins=[1,2,3]，划分后有2个区间(1,2]，(2,3]，则labels的长度必须为2。   如果指定labels=False，则返回x中的数据在第几个bin中（从0开始）。\n",
    "\n",
    "\n",
    "- retbins：bool型的参数，表示是否将分割后的bins返回，当bins为一个int型的标量时比较有用，这样可以得到划分后的区间，默认为False。\n",
    "\n",
    "\n",
    "- precision：保留区间小数点的位数，默认为3.\n",
    "\n",
    "\n",
    "- include_lowest：bool型的参数，表示区间的左边是开还是闭的，默认为false，也就是不包含区间左部（闭）。\n",
    "\n",
    "\n",
    "- duplicates：是否允许重复区间。有两种选择：raise：不允许，drop：允许。\n",
    "\n",
    "返回值\n",
    "\n",
    "- out：一个pandas.Categorical, Series或者ndarray类型的值，代表分区后x中的每个值在哪个bin（区间）中，如果指定了labels，则返回对应的label。\n",
    "\n",
    "\n",
    "- bins：分隔后的区间，当指定retbins为True时返回。"
   ]
  },
  {
   "cell_type": "markdown",
   "metadata": {},
   "source": [
    "### 3.4 归一化处理"
   ]
  },
  {
   "cell_type": "code",
   "execution_count": 179,
   "metadata": {},
   "outputs": [],
   "source": [
    "# 利用好了，就可以删掉原始数据了\n",
    "drop_cols = ['creatDate', 'regDate', 'regionCode', 'seller', 'offerType'] #  删除seller和offerType无效变量\n",
    "data = data.drop(drop_cols, 1)"
   ]
  },
  {
   "cell_type": "code",
   "execution_count": 180,
   "metadata": {},
   "outputs": [
    {
     "name": "stdout",
     "output_type": "stream",
     "text": [
      "(150000, 42)\n"
     ]
    },
    {
     "data": {
      "text/plain": [
       "Index(['SaleID', 'name', 'regDate', 'model', 'brand', 'bodyType', 'fuelType',\n",
       "       'gearbox', 'power', 'kilometer', 'notRepairedDamage', 'regionCode',\n",
       "       'seller', 'offerType', 'creatDate', 'price', 'v_0', 'v_1', 'v_2', 'v_3',\n",
       "       'v_4', 'v_5', 'v_6', 'v_7', 'v_8', 'v_9', 'v_10', 'v_11', 'v_12',\n",
       "       'v_13', 'v_14', 'train', 'used_time', 'city', 'brand_amount',\n",
       "       'brand_price_max', 'brand_price_median', 'brand_price_min',\n",
       "       'brand_price_sum', 'brand_price_std', 'brand_price_average',\n",
       "       'power_bin'],\n",
       "      dtype='object')"
      ]
     },
     "execution_count": 180,
     "metadata": {},
     "output_type": "execute_result"
    }
   ],
   "source": [
    "print(train.shape)\n",
    "train.columns"
   ]
  },
  {
   "cell_type": "code",
   "execution_count": 181,
   "metadata": {},
   "outputs": [
    {
     "name": "stdout",
     "output_type": "stream",
     "text": [
      "(200000, 36)\n"
     ]
    },
    {
     "data": {
      "text/plain": [
       "Index(['SaleID', 'name', 'model', 'brand', 'bodyType', 'fuelType', 'gearbox',\n",
       "       'power', 'kilometer', 'notRepairedDamage', 'price', 'v_0', 'v_1', 'v_2',\n",
       "       'v_3', 'v_4', 'v_5', 'v_6', 'v_7', 'v_8', 'v_9', 'v_10', 'v_11', 'v_12',\n",
       "       'v_13', 'v_14', 'train', 'used_time', 'city', 'brand_amount',\n",
       "       'brand_price_max', 'brand_price_median', 'brand_price_min',\n",
       "       'brand_price_sum', 'brand_price_std', 'brand_price_average'],\n",
       "      dtype='object')"
      ]
     },
     "execution_count": 181,
     "metadata": {},
     "output_type": "execute_result"
    }
   ],
   "source": [
    "print(data.shape)\n",
    "data.columns"
   ]
  },
  {
   "cell_type": "markdown",
   "metadata": {},
   "source": [
    " 我们可以再构造一份特征给 LR NN 之类的模型用\n",
    " 之所以分开构造是因为，**不同模型对数据集的要求不同**.\n",
    " \n",
    " LR 需将分类变量进行编码处理，树模型就可以直接使用了"
   ]
  },
  {
   "cell_type": "code",
   "execution_count": 182,
   "metadata": {},
   "outputs": [
    {
     "data": {
      "text/plain": [
       "<matplotlib.axes._subplots.AxesSubplot at 0x1f00d5d17f0>"
      ]
     },
     "execution_count": 182,
     "metadata": {},
     "output_type": "execute_result"
    },
    {
     "data": {
      "image/png": "[encoded data removed]",
      "text/plain": [
       "<Figure size 432x288 with 1 Axes>"
      ]
     },
     "metadata": {
      "needs_background": "light"
     },
     "output_type": "display_data"
    }
   ],
   "source": [
    "# 查看数据分布：\n",
    "data['power'].plot.hist()"
   ]
  },
  {
   "cell_type": "code",
   "execution_count": 183,
   "metadata": {
    "scrolled": true
   },
   "outputs": [
    {
     "data": {
      "text/plain": [
       "<matplotlib.axes._subplots.AxesSubplot at 0x1f001f58d68>"
      ]
     },
     "execution_count": 183,
     "metadata": {},
     "output_type": "execute_result"
    },
    {
     "data": {
      "image/png": "[encoded data removed]",
      "text/plain": [
       "<Figure size 432x288 with 1 Axes>"
      ]
     },
     "metadata": {
      "needs_background": "light"
     },
     "output_type": "display_data"
    }
   ],
   "source": [
    "test[\"power\"].plot.hist()"
   ]
  },
  {
   "cell_type": "markdown",
   "metadata": {},
   "source": [
    "#### 长尾截断"
   ]
  },
  {
   "cell_type": "code",
   "execution_count": 184,
   "metadata": {},
   "outputs": [
    {
     "data": {
      "text/plain": [
       "<matplotlib.axes._subplots.AxesSubplot at 0x1f001e8bdd8>"
      ]
     },
     "execution_count": 184,
     "metadata": {},
     "output_type": "execute_result"
    },
    {
     "data": {
      "image/png": "[encoded data removed]",
      "text/plain": [
       "<Figure size 432x288 with 1 Axes>"
      ]
     },
     "metadata": {
      "needs_background": "light"
     },
     "output_type": "display_data"
    }
   ],
   "source": [
    "# 我们对其取 log，在做归一化\n",
    "from sklearn import preprocessing\n",
    "min_max_scaler = preprocessing.MinMaxScaler()\n",
    "data['power'] = np.log(data['power'] + 1) \n",
    "data['power'] = ((data['power'] - np.min(data['power'])) / (np.max(data['power']) - np.min(data['power'])))\n",
    "data['power'].plot.hist()"
   ]
  },
  {
   "cell_type": "code",
   "execution_count": 185,
   "metadata": {},
   "outputs": [
    {
     "data": {
      "text/plain": [
       "<matplotlib.axes._subplots.AxesSubplot at 0x1f001be0588>"
      ]
     },
     "execution_count": 185,
     "metadata": {},
     "output_type": "execute_result"
    },
    {
     "data": {
      "image/png": "[encoded data removed]",
      "text/plain": [
       "<Figure size 432x288 with 1 Axes>"
      ]
     },
     "metadata": {
      "needs_background": "light"
     },
     "output_type": "display_data"
    }
   ],
   "source": [
    "data['kilometer'].plot.hist()"
   ]
  },
  {
   "cell_type": "code",
   "execution_count": 186,
   "metadata": {},
   "outputs": [
    {
     "data": {
      "text/plain": [
       "15.0    129066\n",
       "12.5     21068\n",
       "10.0      8565\n",
       "9.0       7048\n",
       "8.0       6096\n",
       "7.0       5492\n",
       "6.0       4943\n",
       "5.0       4237\n",
       "4.0       3616\n",
       "3.0       3350\n",
       "2.0       3071\n",
       "0.5       2456\n",
       "1.0        992\n",
       "Name: kilometer, dtype: int64"
      ]
     },
     "execution_count": 186,
     "metadata": {},
     "output_type": "execute_result"
    }
   ],
   "source": [
    "data.kilometer.value_counts()"
   ]
  },
  {
   "cell_type": "code",
   "execution_count": 187,
   "metadata": {},
   "outputs": [
    {
     "data": {
      "text/plain": [
       "<matplotlib.axes._subplots.AxesSubplot at 0x1f0020a7550>"
      ]
     },
     "execution_count": 187,
     "metadata": {},
     "output_type": "execute_result"
    },
    {
     "data": {
      "image/png": "[encoded data removed]",
      "text/plain": [
       "<Figure size 432x288 with 1 Axes>"
      ]
     },
     "metadata": {
      "needs_background": "light"
     },
     "output_type": "display_data"
    }
   ],
   "source": [
    "# km 的比较正常，应该是已经做过分桶了\n",
    "# 直接做归一化\n",
    "data['kilometer'] = ((data['kilometer'] - np.min(data['kilometer'])) / \n",
    "                        (np.max(data['kilometer']) - np.min(data['kilometer'])))\n",
    "data['kilometer'].plot.hist()"
   ]
  },
  {
   "cell_type": "code",
   "execution_count": 188,
   "metadata": {},
   "outputs": [],
   "source": [
    "# 除此之外 对刚刚构造的统计量特征：\n",
    "# 'brand_amount', 'brand_price_average', 'brand_price_max',\n",
    "# 'brand_price_median', 'brand_price_min', 'brand_price_std',\n",
    "# 'brand_price_sum'\n",
    "# 这里不再一一举例分析了，直接做变换，\n",
    "def max_min(x):\n",
    "    return (x - np.min(x)) / (np.max(x) - np.min(x))\n",
    "\n",
    "data['brand_amount'] = ((data['brand_amount'] - np.min(data['brand_amount'])) / \n",
    "                        (np.max(data['brand_amount']) - np.min(data['brand_amount'])))\n",
    "data['brand_price_average'] = ((data['brand_price_average'] - np.min(data['brand_price_average'])) / \n",
    "                               (np.max(data['brand_price_average']) - np.min(data['brand_price_average'])))\n",
    "data['brand_price_max'] = ((data['brand_price_max'] - np.min(data['brand_price_max'])) / \n",
    "                           (np.max(data['brand_price_max']) - np.min(data['brand_price_max'])))\n",
    "data['brand_price_median'] = ((data['brand_price_median'] - np.min(data['brand_price_median'])) /\n",
    "                              (np.max(data['brand_price_median']) - np.min(data['brand_price_median'])))\n",
    "data['brand_price_min'] = ((data['brand_price_min'] - np.min(data['brand_price_min'])) / \n",
    "                           (np.max(data['brand_price_min']) - np.min(data['brand_price_min'])))\n",
    "data['brand_price_std'] = ((data['brand_price_std'] - np.min(data['brand_price_std'])) / \n",
    "                           (np.max(data['brand_price_std']) - np.min(data['brand_price_std'])))\n",
    "data['brand_price_sum'] = ((data['brand_price_sum'] - np.min(data['brand_price_sum'])) / \n",
    "                           (np.max(data['brand_price_sum']) - np.min(data['brand_price_sum'])))"
   ]
  },
  {
   "cell_type": "markdown",
   "metadata": {},
   "source": [
    "### 3.5 类别变量one-hot编码"
   ]
  },
  {
   "cell_type": "code",
   "execution_count": 189,
   "metadata": {},
   "outputs": [],
   "source": [
    "# 对类别特征进行 OneEncoder\n",
    "data = pd.get_dummies(data, columns=['model', 'brand', 'bodyType', 'fuelType',\n",
    "                                     'gearbox', 'notRepairedDamage','city']) #城市也进行编码"
   ]
  },
  {
   "cell_type": "code",
   "execution_count": 190,
   "metadata": {},
   "outputs": [
    {
     "name": "stdout",
     "output_type": "stream",
     "text": [
      "(200000, 346)\n"
     ]
    }
   ],
   "source": [
    "print(data.shape)"
   ]
  },
  {
   "cell_type": "code",
   "execution_count": null,
   "metadata": {},
   "outputs": [],
   "source": []
  },
  {
   "cell_type": "markdown",
   "metadata": {},
   "source": [
    "###  3.6 特征筛选\n",
    "当数据预处理完成后，我们需要选择有意义的特征输入机器学习的算法和模型进行训练。\n",
    "\n",
    "通常来说，从两个方面考虑来选择特征：\n",
    "    1. 特征是否发散：如果一个特征不发散，例如方差接近于0，也就是说样本在这个特征上基本上没有差异，这个特征对于样本的区分并没有什么用。\n",
    "    2. 特征与目标的相关性：这点比较显见，与目标相关性高的特征，应当优选选择。\n",
    "    除方差法外，本文介绍的其他方法均从相关性考虑。\n",
    "\n",
    "根据特征选择的形式又可以将特征选择方法分为3种：\n",
    "    1. 过滤式（filter）：先对数据进行特征选择，然后在训练学习器，常见的方法有 Relief/方差选择发/相关系数法/卡方检验法/互信息法；\n",
    "    2. 包裹式（wrapper）：直接把最终将要使用的学习器的性能作为特征子集的评价准则，常见方法有 LVM（Las Vegas Wrapper） ；\n",
    "    3. 嵌入式（embedding）：也叫集成式，结合过滤式和包裹式，学习器训练过程中自动进行了特征选择，\n",
    "    常见的有 lasso 回归；\n"
   ]
  },
  {
   "cell_type": "markdown",
   "metadata": {},
   "source": [
    "#### 3.6.1 过滤式"
   ]
  },
  {
   "cell_type": "code",
   "execution_count": 191,
   "metadata": {},
   "outputs": [],
   "source": [
    "## 1）相关系数法-自变量间的相关系数\n",
    "data_numeric = data[['power', 'kilometer', 'brand_amount', 'brand_price_average', \n",
    "                     'brand_price_max', 'brand_price_median']]\n",
    "correlation = data_numeric.corr()"
   ]
  },
  {
   "cell_type": "code",
   "execution_count": 192,
   "metadata": {},
   "outputs": [
    {
     "data": {
      "text/html": [
       "<div>\n",
       "<style scoped>\n",
       "    .dataframe tbody tr th:only-of-type {\n",
       "        vertical-align: middle;\n",
       "    }\n",
       "\n",
       "    .dataframe tbody tr th {\n",
       "        vertical-align: top;\n",
       "    }\n",
       "\n",
       "    .dataframe thead th {\n",
       "        text-align: right;\n",
       "    }\n",
       "</style>\n",
       "<table border=\"1\" class=\"dataframe\">\n",
       "  <thead>\n",
       "    <tr style=\"text-align: right;\">\n",
       "      <th></th>\n",
       "      <th>power</th>\n",
       "      <th>kilometer</th>\n",
       "      <th>brand_amount</th>\n",
       "      <th>brand_price_average</th>\n",
       "      <th>brand_price_max</th>\n",
       "      <th>brand_price_median</th>\n",
       "    </tr>\n",
       "  </thead>\n",
       "  <tbody>\n",
       "    <tr>\n",
       "      <th>power</th>\n",
       "      <td>1.000000</td>\n",
       "      <td>-0.029441</td>\n",
       "      <td>0.016561</td>\n",
       "      <td>0.184238</td>\n",
       "      <td>0.167575</td>\n",
       "      <td>0.177547</td>\n",
       "    </tr>\n",
       "    <tr>\n",
       "      <th>kilometer</th>\n",
       "      <td>-0.029441</td>\n",
       "      <td>1.000000</td>\n",
       "      <td>0.100431</td>\n",
       "      <td>-0.011524</td>\n",
       "      <td>0.088513</td>\n",
       "      <td>-0.026889</td>\n",
       "    </tr>\n",
       "    <tr>\n",
       "      <th>brand_amount</th>\n",
       "      <td>0.016561</td>\n",
       "      <td>0.100431</td>\n",
       "      <td>1.000000</td>\n",
       "      <td>0.041590</td>\n",
       "      <td>0.318626</td>\n",
       "      <td>-0.039526</td>\n",
       "    </tr>\n",
       "    <tr>\n",
       "      <th>brand_price_average</th>\n",
       "      <td>0.184238</td>\n",
       "      <td>-0.011524</td>\n",
       "      <td>0.041590</td>\n",
       "      <td>1.000000</td>\n",
       "      <td>0.646068</td>\n",
       "      <td>0.984067</td>\n",
       "    </tr>\n",
       "    <tr>\n",
       "      <th>brand_price_max</th>\n",
       "      <td>0.167575</td>\n",
       "      <td>0.088513</td>\n",
       "      <td>0.318626</td>\n",
       "      <td>0.646068</td>\n",
       "      <td>1.000000</td>\n",
       "      <td>0.556785</td>\n",
       "    </tr>\n",
       "    <tr>\n",
       "      <th>brand_price_median</th>\n",
       "      <td>0.177547</td>\n",
       "      <td>-0.026889</td>\n",
       "      <td>-0.039526</td>\n",
       "      <td>0.984067</td>\n",
       "      <td>0.556785</td>\n",
       "      <td>1.000000</td>\n",
       "    </tr>\n",
       "  </tbody>\n",
       "</table>\n",
       "</div>"
      ],
      "text/plain": [
       "                        power  kilometer  brand_amount  brand_price_average  \\\n",
       "power                1.000000  -0.029441      0.016561             0.184238   \n",
       "kilometer           -0.029441   1.000000      0.100431            -0.011524   \n",
       "brand_amount         0.016561   0.100431      1.000000             0.041590   \n",
       "brand_price_average  0.184238  -0.011524      0.041590             1.000000   \n",
       "brand_price_max      0.167575   0.088513      0.318626             0.646068   \n",
       "brand_price_median   0.177547  -0.026889     -0.039526             0.984067   \n",
       "\n",
       "                     brand_price_max  brand_price_median  \n",
       "power                       0.167575            0.177547  \n",
       "kilometer                   0.088513           -0.026889  \n",
       "brand_amount                0.318626           -0.039526  \n",
       "brand_price_average         0.646068            0.984067  \n",
       "brand_price_max             1.000000            0.556785  \n",
       "brand_price_median          0.556785            1.000000  "
      ]
     },
     "execution_count": 192,
     "metadata": {},
     "output_type": "execute_result"
    }
   ],
   "source": [
    "correlation"
   ]
  },
  {
   "cell_type": "code",
   "execution_count": 136,
   "metadata": {},
   "outputs": [
    {
     "data": {
      "text/plain": [
       "<matplotlib.axes._subplots.AxesSubplot at 0x1f0053288d0>"
      ]
     },
     "execution_count": 136,
     "metadata": {},
     "output_type": "execute_result"
    },
    {
     "data": {
      "image/png": "[encoded data removed]",
      "text/plain": [
       "<Figure size 504x504 with 2 Axes>"
      ]
     },
     "metadata": {
      "needs_background": "light"
     },
     "output_type": "display_data"
    }
   ],
   "source": [
    "f , ax = plt.subplots(figsize = (7, 7))\n",
    "plt.title('Correlation of Numeric Features with Price',y=1,size=16)\n",
    "sns.heatmap(correlation,square = True,  vmax=0.8)"
   ]
  },
  {
   "cell_type": "code",
   "execution_count": 193,
   "metadata": {},
   "outputs": [],
   "source": [
    "# 2) 相关系数法 （自变量和因变量的显著性检验，数据类型为定量型数据)\n",
    "def filter_pearsonr(data, target, topK=2):\n",
    "    from numpy import var, cov\n",
    "    from sklearn.feature_selection import SelectKBest\n",
    "    from scipy.stats import pearsonr#返回值 r, p-value ：r是相关系数，取值-1~1. p-value表示线性相关程度 p-value越小，表示相关程度越显著。\n",
    "\n",
    "    # 选择K个最好的特征，返回选择特征后的数据\n",
    "    # 第一个参数为计算评估特征是否好的函数，该函数输入特征矩阵和目标向量，输出二元组（评分，P值）的数组，数组第i项为第i个特征的评分和P值。在此定义为计算相关系数\n",
    "    # 参数k为选择的特征个数\n",
    "\n",
    "    pearsonr_xy = [np.cov(data[:, i], target)[0,1]/(np.std(data[:, i])*np.std(target)) for i in range(data.shape[1])]\n",
    "    print('特征的皮尔逊相关系数为：')\n",
    "    print(pearsonr_xy)\n",
    "    selectK = SelectKBest(lambda X, Y: tuple(map(tuple, np.array(list(map(lambda x: pearsonr(x, Y), X.T))).T)), k=topK).\\\n",
    "        fit_transform(data, target)\n",
    "    return selectK\n",
    "\n",
    "# 3）方差法\n",
    "def filter_var(data, dat_threshold):\n",
    "    \"\"\"\n",
    "    使用方差选择法，先要计算各个特征的方差，然后根据阈值，选择方差大于阈值的特征\n",
    "    适用范围：特征取值连续，有监督，分类和回归\n",
    "    \"\"\"\n",
    "\n",
    "    from sklearn.feature_selection import VarianceThreshold\n",
    "\n",
    "    # 方差选择法，返回值为特征选择后的数据\n",
    "    # 参数threshold为方差的阈值\n",
    "    data_var = [np.var(data[i]) for i in range(data.shape[1])]\n",
    "    print('特征方差：', data_var)\n",
    "    return VarianceThreshold(threshold=dat_threshold).fit_transform(data)\n",
    "\n",
    "# 3）卡方独立性检验（自变量和因变量的相关性检验：定性自变量和定性因变量的检验）\n",
    "def filter_chi2(data, target, topK=2):\n",
    "    from sklearn.feature_selection import SelectKBest\n",
    "    from sklearn.feature_selection import chi2\n",
    "\n",
    "    # 选择K个最好的特征，返回选择特征后的数据\n",
    "    xy_chi2 = chi2(data, target)\n",
    "    print('卡方统计量：', xy_chi2[0])\n",
    "    print('显著性水平p，越小越好：', xy_chi2[1])\n",
    "    return SelectKBest(chi2, k=topK).fit_transform(data, target)\n",
    "\n",
    "# 4)  互信息法（经典的互信息也是评价定性自变量对定性因变量的相关性的）\n",
    "def filter_mi(data, target, topK):\n",
    "    \"\"\"\n",
    "    MutualInformation:简称MI\n",
    "    互信息法（经典的互信息也是评价定性自变量对定性因变量的相关性的）,互信息越大，相关性越强\n",
    "    :param data:\n",
    "    :param target:\n",
    "    :param topK:\n",
    "    :return:\n",
    "    \"\"\"\n",
    "    from sklearn.feature_selection import SelectKBest\n",
    "    from minepy import MINE\n",
    "    # 由于MINE的设计不是函数式的，定义mic方法将其为函数式的，返回一个二元组，二元组的第2项设置成固定的P值0.5\n",
    "    def mic(x, y):\n",
    "        m = MINE()\n",
    "        m.compute_score(x, y)\n",
    "        return (m.mic(), 0.5)\n",
    "\n",
    "    mi_cal = lambda X, Y: tuple(map(tuple, np.array(list(map(lambda x: mic(x, Y), X.T))).T))#计算互信息\n",
    "    print(\"互信息结果：\", mi_cal(data, target))\n",
    "    # 选择K个最好的特征，返回特征选择后的数据\n",
    "    selectK = SelectKBest(mi_cal, k=topK).fit_transform(data, target)\n",
    "    return selectK\n"
   ]
  },
  {
   "cell_type": "markdown",
   "metadata": {},
   "source": [
    "#### 3.6.2 包裹式"
   ]
  },
  {
   "cell_type": "code",
   "execution_count": 194,
   "metadata": {},
   "outputs": [
    {
     "data": {
      "text/plain": [
       "('kilometer',\n",
       " 'v_0',\n",
       " 'v_3',\n",
       " 'v_7',\n",
       " 'used_time',\n",
       " 'brand_price_max',\n",
       " 'brand_price_average',\n",
       " 'model_145.0',\n",
       " 'model_167.0',\n",
       " 'gearbox_1.0')"
      ]
     },
     "execution_count": 194,
     "metadata": {},
     "output_type": "execute_result"
    }
   ],
   "source": [
    "# !pip install mlxtend\n",
    "from mlxtend.feature_selection import SequentialFeatureSelector as SFS\n",
    "from sklearn.linear_model import LinearRegression\n",
    "\n",
    "train = data[data.train==1]\n",
    "train = train.drop(['train', 'SaleID', 'name'],1)\n",
    "sfs = SFS(LinearRegression(),\n",
    "           k_features=10,\n",
    "           forward=True,\n",
    "           floating=False,\n",
    "           scoring = 'r2',\n",
    "           cv = 0)\n",
    "x = train.drop(['price'], axis=1)\n",
    "x = x.fillna(0)\n",
    "y = train['price']\n",
    "sfs.fit(x, y)\n",
    "sfs.k_feature_names_ "
   ]
  },
  {
   "cell_type": "code",
   "execution_count": 195,
   "metadata": {},
   "outputs": [
    {
     "data": {
      "image/png": "[encoded data removed]",
      "text/plain": [
       "<Figure size 432x288 with 1 Axes>"
      ]
     },
     "metadata": {
      "needs_background": "light"
     },
     "output_type": "display_data"
    }
   ],
   "source": [
    "# 画出来，可以看到边际效益\n",
    "from mlxtend.plotting import plot_sequential_feature_selection as plot_sfs\n",
    "import matplotlib.pyplot as plt\n",
    "fig1 = plot_sfs(sfs.get_metric_dict(), kind='std_dev')\n",
    "plt.grid()\n",
    "plt.show()"
   ]
  },
  {
   "cell_type": "markdown",
   "metadata": {},
   "source": [
    "### 3.6.3 嵌入式"
   ]
  },
  {
   "cell_type": "code",
   "execution_count": 198,
   "metadata": {},
   "outputs": [],
   "source": [
    "###1）基于惩罚项的特征选择法\n",
    "def embedded_l1_penalty(data, target):\n",
    "    \"\"\"\n",
    "    使用带惩罚项的基模型，除了筛选出特征外，同时也进行了降维。\n",
    "    使用feature_selection库的SelectFromModel类结合带L1惩罚项的逻辑回归模型，来选择特征\n",
    "\n",
    "    :param data:\n",
    "    :param target: \n",
    "    :return: \n",
    "    \"\"\"\n",
    "    from sklearn.feature_selection import SelectFromModel\n",
    "    from sklearn.linear_model import LogisticRegression\n",
    "\n",
    "    # 带L1惩罚项的逻辑回归作为基模型的特征选择\n",
    "    lr = LogisticRegression(solver='liblinear',multi_class='auto', penalty=\"l1\", C=0.1)\n",
    "    features = SelectFromModel(lr).fit_transform(data, target)\n",
    "    return features"
   ]
  },
  {
   "cell_type": "code",
   "execution_count": null,
   "metadata": {},
   "outputs": [],
   "source": [
    "features = embedded_l1_penalty(x, y)\n",
    "features"
   ]
  },
  {
   "cell_type": "code",
   "execution_count": 197,
   "metadata": {},
   "outputs": [],
   "source": [
    "# 2） 基于树模型的特征选择法\n",
    "def embedded_tree_based(data, target):\n",
    "    \"\"\"\n",
    "    树模型中GBDT,etc,dt 也可用来作为基模型进行特征选择，\n",
    "    使用feature_selection库的SelectFromModel类结合GBDT模型\n",
    "    :param data:\n",
    "    :param target:\n",
    "    :return:\n",
    "    \"\"\"\n",
    "    from sklearn.ensemble import ExtraTreesClassifier\n",
    "    from sklearn.ensemble import GradientBoostingClassifier\n",
    "    from sklearn.feature_selection import SelectFromModel\n",
    "    from sklearn import tree\n",
    "    from matplotlib import pyplot as plt\n",
    "\n",
    "    ### dt 决策树\n",
    "    # clf = tree.DecisionTreeClassifier()\n",
    "    ## etc\n",
    "    # clf = ExtraTreesClassifier(n_estimators=50)\n",
    "    ### gbdt\n",
    "    clf = GradientBoostingClassifier()\n",
    "    clf = clf.fit(data, target)\n",
    "    importances = clf.feature_importances_\n",
    "    print('the Gini importance of the features: ', importances)\n",
    "\n",
    "    model = SelectFromModel(clf, prefit=True)\n",
    "    data_new = model.transform(data)\n",
    "\n",
    "    indices = np.argsort(importances)[::-1]#重要性降序排序\n",
    "    #特征重要性绘图\n",
    "    plt.figure()\n",
    "    plt.title(\"Feature importances\")\n",
    "    plt.bar(range(data.shape[1]), importances[indices],\n",
    "            color=\"r\", align=\"center\")\n",
    "    plt.xticks(range(data.shape[1]), indices)\n",
    "    plt.xlim([-1, data.shape[1]])\n",
    "    plt.show()\n",
    "    return data_new\n"
   ]
  },
  {
   "cell_type": "code",
   "execution_count": null,
   "metadata": {},
   "outputs": [],
   "source": []
  }
 ],
 "metadata": {
  "kernelspec": {
   "display_name": "Python 3",
   "language": "python",
   "name": "python3"
  },
  "language_info": {
   "codemirror_mode": {
    "name": "ipython",
    "version": 3
   },
   "file_extension": ".py",
   "mimetype": "text/x-python",
   "name": "python",
   "nbconvert_exporter": "python",
   "pygments_lexer": "ipython3",
   "version": "3.6.8"
  }
 },
 "nbformat": 4,
 "nbformat_minor": 2
}
